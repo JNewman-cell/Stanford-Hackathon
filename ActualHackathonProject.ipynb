{
 "cells": [
  {
   "cell_type": "markdown",
   "metadata": {},
   "source": [
    "import all necessary items"
   ]
  },
  {
   "cell_type": "code",
   "execution_count": 155,
   "metadata": {
    "collapsed": true,
    "jupyter": {
     "outputs_hidden": true
    }
   },
   "outputs": [
    {
     "name": "stderr",
     "output_type": "stream",
     "text": [
      "[nltk_data] Downloading package vader_lexicon to C:\\Users\\Tim\n",
      "[nltk_data]     Kraemer\\AppData\\Roaming\\nltk_data...\n",
      "[nltk_data]   Package vader_lexicon is already up-to-date!\n"
     ]
    }
   ],
   "source": [
    "import pandas as pd\n",
    "import matplotlib.pyplot as plt\n",
    "import matplotlib\n",
    "import nltk\n",
    "from nltk.sentiment import SentimentIntensityAnalyzer\n",
    "nltk.download(['vader_lexicon'])"
   ]
  },
  {
   "cell_type": "markdown",
   "metadata": {},
   "source": [
    "Import all dataframes"
   ]
  },
  {
   "cell_type": "code",
   "execution_count": 102,
   "metadata": {
    "collapsed": true,
    "jupyter": {
     "outputs_hidden": true
    }
   },
   "outputs": [
    {
     "name": "stderr",
     "output_type": "stream",
     "text": [
      "C:\\Users\\Tim Kraemer\\anaconda3\\lib\\site-packages\\numpy\\lib\\arraysetops.py:569: FutureWarning: elementwise comparison failed; returning scalar instead, but in the future will perform elementwise comparison\n",
      "  mask |= (ar1 == a)\n"
     ]
    }
   ],
   "source": [
    "tweet_data = pd.read_csv('Tweet.csv',  index_col=0)\n",
    "AAPLE_stock = pd.read_csv('AAPL_Historical_Data.csv')\n",
    "AMZN_stock = pd.read_csv('AMZN_Historical_Data.csv')\n",
    "GOOGL_stock = pd.read_csv('GOOGL_Historical_Data.csv')\n",
    "TSLA_stock = pd.read_csv('TSLA_Historical_Data.csv')\n",
    "company_tweet_data = pd.read_csv('Company_Tweet.csv')\n",
    "sentimental_tweets = pd.read_csv('Sentimental_Tweets.csv', index_col=0)"
   ]
  },
  {
   "cell_type": "markdown",
   "metadata": {},
   "source": [
    "Specify Company, and Slice All Tweets to only get Tweets about specified company"
   ]
  },
  {
   "cell_type": "code",
   "execution_count": 197,
   "metadata": {},
   "outputs": [],
   "source": [
    "company = 'AAPL'\n",
    "tweets_from_company = company_tweet_data[company_tweet_data.ticker_symbol==company].tweet_id\n",
    "TA = tweet_data.loc[tweets_from_company]"
   ]
  },
  {
   "cell_type": "markdown",
   "metadata": {},
   "source": [
    "Specify the date, Slice Specified Company Tweet Data to only have tweets in the specified date range"
   ]
  },
  {
   "cell_type": "code",
   "execution_count": 244,
   "metadata": {},
   "outputs": [],
   "source": [
    "date1 = pd.to_datetime('01/15/2015')\n",
    "date2 = pd.to_datetime('02/16/2015')\n",
    "\n",
    "TA1 = TA[pd.to_datetime(TA.post_date*1e9, origin='unix') > date1]\n",
    "TA2 = TA1[pd.to_datetime(TA1.post_date*1e9, origin='unix') < date2]"
   ]
  },
  {
   "cell_type": "markdown",
   "metadata": {},
   "source": [
    "Gets the index(Tweet ID) for the specified tweets"
   ]
  },
  {
   "cell_type": "code",
   "execution_count": 245,
   "metadata": {},
   "outputs": [],
   "source": [
    "tweets_in_window = TA2.index"
   ]
  },
  {
   "cell_type": "markdown",
   "metadata": {},
   "source": [
    "Get the sentimental data from the sentimental data frame for the specified tweets"
   ]
  },
  {
   "cell_type": "code",
   "execution_count": 246,
   "metadata": {},
   "outputs": [
    {
     "data": {
      "text/html": [
       "<div>\n",
       "<style scoped>\n",
       "    .dataframe tbody tr th:only-of-type {\n",
       "        vertical-align: middle;\n",
       "    }\n",
       "\n",
       "    .dataframe tbody tr th {\n",
       "        vertical-align: top;\n",
       "    }\n",
       "\n",
       "    .dataframe thead th {\n",
       "        text-align: right;\n",
       "    }\n",
       "</style>\n",
       "<table border=\"1\" class=\"dataframe\">\n",
       "  <thead>\n",
       "    <tr style=\"text-align: right;\">\n",
       "      <th></th>\n",
       "      <th>Date</th>\n",
       "      <th>Positive</th>\n",
       "      <th>Negative</th>\n",
       "      <th>Neutral</th>\n",
       "      <th>Compound</th>\n",
       "    </tr>\n",
       "    <tr>\n",
       "      <th>tweet_id</th>\n",
       "      <th></th>\n",
       "      <th></th>\n",
       "      <th></th>\n",
       "      <th></th>\n",
       "      <th></th>\n",
       "    </tr>\n",
       "  </thead>\n",
       "  <tbody>\n",
       "    <tr>\n",
       "      <th>555876364029423620</th>\n",
       "      <td>2015-01-15 23:57:07</td>\n",
       "      <td>0.000</td>\n",
       "      <td>0.078</td>\n",
       "      <td>0.922</td>\n",
       "      <td>-0.1531</td>\n",
       "    </tr>\n",
       "    <tr>\n",
       "      <th>555875906472779779</th>\n",
       "      <td>2015-01-15 23:55:18</td>\n",
       "      <td>0.000</td>\n",
       "      <td>0.000</td>\n",
       "      <td>1.000</td>\n",
       "      <td>0.0000</td>\n",
       "    </tr>\n",
       "    <tr>\n",
       "      <th>555875565178081281</th>\n",
       "      <td>2015-01-15 23:53:57</td>\n",
       "      <td>0.000</td>\n",
       "      <td>0.137</td>\n",
       "      <td>0.863</td>\n",
       "      <td>-0.2263</td>\n",
       "    </tr>\n",
       "    <tr>\n",
       "      <th>555875255843954690</th>\n",
       "      <td>2015-01-15 23:52:43</td>\n",
       "      <td>0.168</td>\n",
       "      <td>0.094</td>\n",
       "      <td>0.738</td>\n",
       "      <td>0.2732</td>\n",
       "    </tr>\n",
       "    <tr>\n",
       "      <th>555875247702814721</th>\n",
       "      <td>2015-01-15 23:52:41</td>\n",
       "      <td>0.157</td>\n",
       "      <td>0.088</td>\n",
       "      <td>0.755</td>\n",
       "      <td>0.2732</td>\n",
       "    </tr>\n",
       "    <tr>\n",
       "      <th>...</th>\n",
       "      <td>...</td>\n",
       "      <td>...</td>\n",
       "      <td>...</td>\n",
       "      <td>...</td>\n",
       "      <td>...</td>\n",
       "    </tr>\n",
       "    <tr>\n",
       "      <th>566398946927726592</th>\n",
       "      <td>2015-02-14 00:50:06</td>\n",
       "      <td>0.000</td>\n",
       "      <td>0.000</td>\n",
       "      <td>1.000</td>\n",
       "      <td>0.0000</td>\n",
       "    </tr>\n",
       "    <tr>\n",
       "      <th>566398799136821248</th>\n",
       "      <td>2015-02-14 00:49:31</td>\n",
       "      <td>0.000</td>\n",
       "      <td>0.241</td>\n",
       "      <td>0.759</td>\n",
       "      <td>-0.6597</td>\n",
       "    </tr>\n",
       "    <tr>\n",
       "      <th>566398691880468481</th>\n",
       "      <td>2015-02-14 00:49:05</td>\n",
       "      <td>0.000</td>\n",
       "      <td>0.000</td>\n",
       "      <td>1.000</td>\n",
       "      <td>0.0000</td>\n",
       "    </tr>\n",
       "    <tr>\n",
       "      <th>566398683244404736</th>\n",
       "      <td>2015-02-14 00:49:03</td>\n",
       "      <td>0.140</td>\n",
       "      <td>0.122</td>\n",
       "      <td>0.738</td>\n",
       "      <td>0.1280</td>\n",
       "    </tr>\n",
       "    <tr>\n",
       "      <th>566398578835599362</th>\n",
       "      <td>2015-02-14 00:48:39</td>\n",
       "      <td>0.000</td>\n",
       "      <td>0.113</td>\n",
       "      <td>0.887</td>\n",
       "      <td>-0.1027</td>\n",
       "    </tr>\n",
       "  </tbody>\n",
       "</table>\n",
       "<p>39409 rows × 5 columns</p>\n",
       "</div>"
      ],
      "text/plain": [
       "                                   Date  Positive  Negative  Neutral  Compound\n",
       "tweet_id                                                                      \n",
       "555876364029423620  2015-01-15 23:57:07     0.000     0.078    0.922   -0.1531\n",
       "555875906472779779  2015-01-15 23:55:18     0.000     0.000    1.000    0.0000\n",
       "555875565178081281  2015-01-15 23:53:57     0.000     0.137    0.863   -0.2263\n",
       "555875255843954690  2015-01-15 23:52:43     0.168     0.094    0.738    0.2732\n",
       "555875247702814721  2015-01-15 23:52:41     0.157     0.088    0.755    0.2732\n",
       "...                                 ...       ...       ...      ...       ...\n",
       "566398946927726592  2015-02-14 00:50:06     0.000     0.000    1.000    0.0000\n",
       "566398799136821248  2015-02-14 00:49:31     0.000     0.241    0.759   -0.6597\n",
       "566398691880468481  2015-02-14 00:49:05     0.000     0.000    1.000    0.0000\n",
       "566398683244404736  2015-02-14 00:49:03     0.140     0.122    0.738    0.1280\n",
       "566398578835599362  2015-02-14 00:48:39     0.000     0.113    0.887   -0.1027\n",
       "\n",
       "[39409 rows x 5 columns]"
      ]
     },
     "execution_count": 246,
     "metadata": {},
     "output_type": "execute_result"
    }
   ],
   "source": [
    "S = sentimental_tweets.loc[tweets_in_window]\n",
    "S"
   ]
  },
  {
   "cell_type": "code",
   "execution_count": 252,
   "metadata": {},
   "outputs": [
    {
     "name": "stdout",
     "output_type": "stream",
     "text": [
      "WTF?! ALL this volatility for a No Surprise FED action? FREAKING BULLSHIT!! Stewpid Shit!! - $SPY $DIA $QQQ $DAX $NFLX $AAPL $USDJPY $EURUSD\n",
      "Apple would be stupid to drop Google from Safari. People will be pissed and just switch back.  Stick with the Devil you know $GOOG $AAPL\n",
      "@andreascseh @MarkYusko @scarletfu you're an idiot Cseh. What the hell is wrong with you? Apple hater. $aapl\n",
      "$aapl FEAR FEAR FEAR!\n",
      "$AAPL just filled the gap from Jan 7-8th. I'd give it another shot today but man it looks weak as hell and every bounce is sold hard.\n",
      "\"@GrindTime: $AAPL  ISIS threatens to kill 2 Japanese hostages unless  http://stks.co/h1aFj\" WTF does this have to do with stocks\n",
      "$AAPL's had a legendary run for sure, but the herd's expectations of future business results seem to suffer from severe base rate neglect.\n",
      "what really pissed me off GOVT going to war again, Im short $AAPL   this will probably get redacted because it not happy\n",
      "Everyone's saying numbers are insane for $AAPL but where's that move. Where is it? Worst reaction ever. Dull. Back to tomorrow.\n",
      "This fucking $aapl stock dip is fucking annoying me. Again it's for no apparent fucking reason other than a dipshit useless ANAL-yst!!!\n",
      "It's not just that it's Apple that NFC is taking off in the US. I'm tellin' ya, \"Pay Layer\" is a KILLER in-store API, tho \"limited\" $AAPL\n",
      "Yeah, urging buying $AAPL from $50 has been a tragic error My bad RT @aweizman: @jimcramer Cramer made so many bad calls including Apple\n",
      "Apple drives this NFC bus. And that's in a country that's not that into NFC. Well, as of last year. $AAPL\n",
      "$AAPL is doomed! Doomed I say!!\n",
      "@mobiletonster @asymco Odd that folks worry that iPhone's dominates $AAPL rev. when no one worries about advertising dominating $GOOG's.\n",
      "King Dollar CATastrophe: Currency War Drags Dow Down Almost 300 Points $AAPL $FXF $DIA  http://goo.gl/TJN1tK\n",
      "King Dollar CATastrophe: Currency War Drags Dow Down Almost 300 Points $AAPL $FXF $DIA  http://goo.gl/TJN1tK\n",
      "Waited this long to short $AAPL 122. It will be a tragedy if it never even hits . Or, should I say, a Greek tragedy ?\n",
      "Flash needs to die! \"Adobe acknowledges critical remote vulnerability in Flash, exploits already in the wild\" $AAPL\n",
      "@mortreport $AAPL $GOOGL How bout them Colts...John McNary charged with rape on 1/14.Andrew Jackson arrested on a drunken-driving charge\n",
      "Build the Ultimate Weapon of Destruction with 'Defect: Spaceship Destruction Kit', Coming… http://dlvr.it/8QrTym #TouchArcade $AAPL\n",
      "Should point  worst case is violation of today's low, ushering in possible test of 1970 on $SPX. The Fed & $AAPL will be significant$SPY\n",
      "Tax Hater Amazon's Luxembourg Tax Deal Attacked As Illegal. $AMZN, $AAPL, $SBUX. http://consestimate.com/us/en/NewsExchange/Article/1030991/tax-hater-amazon's-luxembourg-tax-deal-attacked-as-illegal…\n",
      "$AAPL$AAPL is going to get SCREWED at opening bell... sadly SCREWING us and all in Wall Street until/when it recovers... iWatches all?\n",
      "Apple $AAPL rocks!  Crushed 4Q earnings!\n",
      "@jeffhksar88 @jonfortt What does $AAPL have to do to satisfy the haters? If it cured cancer, haters wld ask where's the cure for alzheimers?\n",
      "@JACK_on_the_right_track Now you chasing Jack, Stay focus. Trying to get that position back going to be hell 2 bad trades in row for u $AAPL\n",
      "The #stock market is mixed this morning. More Greek tragedy stuff. Blah. $aapl new high. $tsla reports after the close. Weak #China sales.\n",
      "And where does $AAPL keep that money? Overseas. Why? Because if it was held here they'd get taxed to death because we hate big business\n",
      "@VaBeach_Guy Let me be clear I own many $aapl products BUT not the stock because  the way it's manipulated for greed (there is no rationale)\n",
      "Stolen iPhones dropped by 40%in San Francisco and 25%t in NY in 12 months after $AAPL added a kill switch\n",
      "@RiskReversal @businessinsider I had no issues with @twitter on iOS8. @dickc stop blaming $AAPL for lost users. #makingExcuses $TWTR\n",
      "#Apple is killing it on #Samsung’s home turf http://cnb.cx/1AVUHkB $AAPL - more bad news for Samsung, esp with #Xiaomi challenge in China\n",
      "@jimcramer @davidfaber WOW! Cramer really on a hate $aapl roll today! what a horror his REVERSALS can be. LONG term day trading! UGH!\n",
      "$aapl could have a $100 billion quarter & the dickheads will find fault. After all $aapl is always doomed. ASSHATS!!!\n",
      "@karenfinerman yeah me too!!!!!!!!!! ugh ugh ugh which one?? $SUNE or $SWN  cant be $aapl or $MTW\n",
      "$AAPL @hblodget also predicted Sammy wld kill IPhone. Probably said same abt Fire phone. Yes Henry is an idiot.\n",
      "http://profit.ly/1Mq9qg Verified $11.07 loss in $AAPL Poor execution here as I failed to stick to the gameplan. I was bullish on all of m...\n",
      "$QCOM guides lower & getting pounded. Down $4.80 in the afterhours. If U can't beat em, join em. $AAPL effect punishing its adversaries.\n",
      "@paumin It's majorly annoying. $AAPL should p/u closer to Analyst Call next week. No idea why investors fear #Xiaomi, it's #Android! #SMDH\n",
      "@ $DJI $SPX $COMPX $NDX $SPY $QQQ $AAPL $FB $GILD how are futures up hardcore but the markets are down? WTF is going on here?\n",
      "$AAPL So many haters!! So much bs talk! They outperformed and set a record why is there still negativity being said? Number don't lie!!!\n",
      "That Bill guy's criticism of $AAPL is same crap spouted every quarter yet always wrong. @BloombergTV #itl\n",
      "예를 들면$AAPL just blew sky rocket ! Sentiments were wrong, I was right ! But due to my schedule, I failed! Shebal! #DonM\n",
      "Able to move ahead after a couple of lame trades in $AAPL, impatience is still my Chimera need to work on it  :S\n",
      "This quarters earning are in. $MSFT - Epic fail. $GOOG - fail. $AAPL - crushed earnings. Still think I'm being a fan boy? Money doesn't lie.\n",
      "My $XOM making a killing. Next week I will make a killing on $AAPL, I will make a huge bet around 2:30pm on $AAPL\n",
      "$AAPL -2.3% into ER tonight. Not the best price action. $QQQ worst performer today with cheapies being bought. $NFLX was wayyyyy dif.\n",
      "$TSLA Forget the competition from BMW, BENZ, Fiat, Nissan/Renault, Hyundai, Kia etc... $AAPL is coming to CRUSH @elonmusk $TSLA\n",
      "Apple haters are having a BAD morning. Chart of the Morning - $AAPL Ripping to New All-Time High #Apple  - http://stephenjohnmoran.com/8/post/2015/02/chart-of-the-morning-aapl-ripping-to-new-all-time-high-apple.html…\n",
      "iPad haters' initial complaints seem ridiculous 5 years on http://dlvr.it/8GJWKx #CultofMac $AAPL\n",
      "ICYMI: iPad haters' initial complaints seem ridiculous 5 years on http://dlvr.it/8K1FjM #CultofMac $AAPL\n",
      "World's worst iPad thieves caught after celebratory selfie syncs to iCloud http://dlvr.it/8BwqJs #CultofMac $AAPL\n",
      "Missed out on Nestle negative rate deal? RT @alextarhini_: $AAPL finances 10 yr debt at 0.28%\n",
      "Where are all the apple haters that believe the company should sell crappy cheap phones to destroy profit margin? $AAPL\n",
      "$AAPL Fing eh.. another bloody, bloody day.  Played this past month so wrong.\n",
      "RT @jimcramer $AAPL FX (FOREX EXCHANGE) LOSSES EXPECTED to be HUGE... and 1st QTR WORSE #SELSELLSELL #CNBC\n",
      "@jimcramer $AAPL FX (FOREX EXCHANGE) LOSSES EXPECTED to be HUGE... and 1st QTR WORSE #SELLSELLSELL #CNBC $NQ_F #forex #futures #CRASH\n",
      "@jimcramer $AAPL FX (FOREX EXCHANGE) LOSSES EXPECTED to be HUGE... and 1st QTR WORSE #SELLSELLSELL #CNBC $NQ_F #forex #futures #CRASH\"\n",
      "RT @jimcramer $AAPL FX (FOREX EXCHANGE) LOSSES EXPECTED to be HUGE... and 1st QTR WORSE #SELSELLSELL #CNBC $NQ_F #forex #futures\"\n",
      "\"@CPCharts: RT @jimcramer $AAPL FX (FOREX EXCHANGE) LOSSES EXPECTED to be HUGE... and 1st QTR WORSE #SELSELLSELL #CNBC $NQ_F #forex #futures\n",
      "@bobrob13 $AAPL looks like higher. $GILD looks like lower. $KMI is BTD. $AA & $LUV up a lot & I don't love Airlines. Wait for weakness IMHO.\n",
      "There is the Apple Economy and then Everything Else.  One side is killing it, one side is struggling.  http://money.cnn.com/2015/01/28/investing/apple-cash-178-billion/index.html…  $AAPL\n",
      "Worst Apple attack ad ever http://dlvr.it/8N22vN #Fortune $AAPL\n",
      "How #Apple cheated death to bleed #Microsoft. Listen2 my podcast: https://soundcloud.com/robenfarzad/how-you-like-this-apple… $AAPL @WalterIsaacson $MSFT http://mobile.nytimes.com/2015/01/30/business/how-and-why-apple-overtook-microsoft.html…\n",
      "Haters hate, and shorts run for cover! $AAPL\n",
      "@mill3000 @MKBHD Goverments bailouts & big 4Q loses & $tsla & $AAPL are practically twins. Evaluate the business not the man\n",
      ".@kevinleosmith @DanielEran Alas, Samsung's knockoffs weren't \"good enough copies\" of $AAPL shit.\n",
      "Fuck $aapl ... The company hasn't done anything since Steve Jobs died. They are stale cereal and will go down in flames\n",
      "Apple rejects games that use violent imagery in its promotional images. https://inside.com/apple/u56lf/Apple-rejects-games-that-use-violent-imagery-in?utm_source=twitter.com&utm_medium=twitterhandle&utm_campaign=@GetInsideApple… $aapl #apple\n",
      "RT @TJReazor: Agree - it's purely technical - , but I think a $AAPL 2012 moment would be a shock to a lot of folks... <~ The Max Pain Theory\n",
      "Caterpillar Inc.'s Dismal December Retail Hints at a Poor Quarter. $CAT, $AAPL. http://consestimate.com/us/en/NewsExchange/Article/1056965/caterpillar-inc.'s-dismal-december-retail-hints-at-a-poor-quarter…\n",
      "@LenBiasDandruff @chisoxbarstool but I did make a killing on $AAPL earnings yesterday #humblebrag #hardo\n",
      "Disappointed $AAPL hasn’t yet reached Dr. Evil quarterly revenue target of 100 BILLION DOLLARS. #iamnotananalyst\n",
      "#MUSTREAD Why do analysts get $AAPL so wrong? Y do they assume that $AAPL is 1 move or 1 Q removed from doom? http://stratechery.com/2015/bad-assumptions/…\n",
      ".@ritholtz: Analysts just don't get Apple http://bloombergview.com/articles/2015-01-28/apple-analysts-and-the-perils-of-prediction… via @BV Yep, why are $AAPL analysts always so wrong? Fire the analysts, no?\n",
      "Every analyst that missed $AAPL earnings should quit before they get fired. And sheep should stop listening to them.\n",
      "First negative week since $GPRO earnings failure.  Out $AAPL calls at .7 from .62 scalp\n",
      "Chinese thieves tunnel their way into a Beijing warehouse, stealing 240… http://dlvr.it/88lsL3 #iDownloadBlog $AAPL\n",
      "#DidYouKnow it was a wrong turn that triggered a world war #fact $AAPL #FactsYouDidntKnow\n",
      "@RedDogT3 @JustinPulitzer @ScottWapnerCNBC @carlquintanilla No Tweet about covering shorts in $AAPL?? Just WRONG!! REALMONEYLOSES\n",
      "They trying to find suckers to short but folks NOT FALLING FOR THIS BULLSHIT SELLOFF today - $SPY $DIA $QQQ $DAX $NFLX $AAPL $USDJPY $EURUSD\n",
      "Long all the right names today $GILD $LVS $AAPL $Q with a little $TSLA for dessert. NO PRISONERS $$$\n",
      "I was off by about 2 weeks but $AAPL has broken through the 120 price target I predicted. Next stop 145 by 10/1 #AAPL #iPhone7 #iPhone6\n",
      "#Apple :From Tamarlan to stalin it's just freaking coincidence #freak #fact from one brutal warlord to another $AAPL\n",
      "#TimCook on #AppleWatch: Fighting the 'New Cancer'  https://yahoo.com/tech/s/tim-cook-apple-watch-fighting-142519213.html… $AAPL\n",
      "“@theflynews: Apple downgraded to Neutral from Buy at Mizuho $AAPL: Full Story http://bit.ly/1ykOGku” - this is a stupid ass DG just read\n",
      "@kazonomics haters gone hate $aapl\n",
      "Wtf $aapl is goofing around. DOW is +180 for crying out loud.\n",
      "Words attributable, arguably, only to an $AAPL : 'cut networks out; solidify a beachhead for assault on TV industry'\n",
      "#idiots at #CNN produced another dumb article. Bunch of clowns at #CNN that have no clue #AppleWatch a flop? http://money.cnn.com/2015/02/04/technology/apple-watch-flop/index.html… $AAPL\n",
      "People who own $AAPL: \"Damn it I shoulda bought more stock!People who don't own it: \"I hate people who own itIcahn: \"I'm rich bitch\"\n",
      "@RiskReversal post dripping w/ condescension for the dreaded \"retail investor\" by a pro who's been wrong on $AAPL for years #100Bagger @CNBC\n",
      "$AAPL and $GOOG continue to trade in tandem. Wave \"e\" is a panic wave. #BreakingNews China to kick AAPLs ass\n",
      "$AAPL rotten to the core, 107.08 - 2.71, expect Orchard to go bad ----> 100 and below.\n",
      "#Smartphone kill switch legislation has led to drop in phone theft #infosec $AAPL http://tweaktown.to/1IU5chP\n",
      "$AAPL closes BELOW 100MA.  First time since 10/16 Ebola panic lows.  Now -11% off the 11/28 high.  Hurting $QQQ  http://stks.co/c1VhA\n",
      "$TSLA home batteries are a real threat to big electricity companies$AAPL car is a real threat to $TSLA and other car companiesLove it\n",
      "This week $AAPL swing killed it out too early $SPY loss is straddle $GOOGL 540 call into next week. @Watchhimtrade\n",
      "Commented on: $AAPL rotten to the core, 107.08 - 2.71, expect Orchard to go bad ----&gt; 100 and... http://seekingalpha.com/user/33599375/stocktalk/61511326?source=st_reply_twitter…\n"
     ]
    }
   ],
   "source": [
    "selected_tweets = S.Compound.sort_values()[:100].index\n",
    "for s in tweet_data.loc[selected_tweets].body:\n",
    "    print(s)\n"
   ]
  },
  {
   "cell_type": "markdown",
   "metadata": {},
   "source": [
    "Plot the Compound of the Sentiments over time"
   ]
  },
  {
   "cell_type": "code",
   "execution_count": 253,
   "metadata": {},
   "outputs": [
    {
     "data": {
      "text/plain": [
       "<matplotlib.axes._subplots.AxesSubplot at 0x1fef5fd9448>"
      ]
     },
     "execution_count": 253,
     "metadata": {},
     "output_type": "execute_result"
    },
    {
     "data": {
      "image/png": "[encoded data removed]",
      "text/plain": [
       "<Figure size 432x288 with 1 Axes>"
      ]
     },
     "metadata": {
      "needs_background": "light"
     },
     "output_type": "display_data"
    }
   ],
   "source": [
    "S.set_index('Date').Compound.plot()"
   ]
  },
  {
   "cell_type": "markdown",
   "metadata": {},
   "source": [
    "Plot the scatter plot for the Compound over time"
   ]
  },
  {
   "cell_type": "code",
   "execution_count": 232,
   "metadata": {},
   "outputs": [
    {
     "ename": "AttributeError",
     "evalue": "'Series' object has no attribute 'Date'",
     "output_type": "error",
     "traceback": [
      "\u001b[1;31m---------------------------------------------------------------------------\u001b[0m",
      "\u001b[1;31mAttributeError\u001b[0m                            Traceback (most recent call last)",
      "\u001b[1;32m<ipython-input-232-68b520eb847d>\u001b[0m in \u001b[0;36m<module>\u001b[1;34m\u001b[0m\n\u001b[0;32m      1\u001b[0m \u001b[0mSD\u001b[0m \u001b[1;33m=\u001b[0m \u001b[0mS\u001b[0m\u001b[1;33m.\u001b[0m\u001b[0mDate\u001b[0m\u001b[1;33m\u001b[0m\u001b[1;33m\u001b[0m\u001b[0m\n\u001b[0;32m      2\u001b[0m \u001b[0mSD\u001b[0m\u001b[1;33m\u001b[0m\u001b[1;33m\u001b[0m\u001b[0m\n\u001b[1;32m----> 3\u001b[1;33m \u001b[0mSD\u001b[0m\u001b[1;33m.\u001b[0m\u001b[0mDate\u001b[0m\u001b[1;33m.\u001b[0m\u001b[0mindex\u001b[0m\u001b[1;33m\u001b[0m\u001b[1;33m\u001b[0m\u001b[0m\n\u001b[0m",
      "\u001b[1;32m~\\anaconda3\\lib\\site-packages\\pandas\\core\\generic.py\u001b[0m in \u001b[0;36m__getattr__\u001b[1;34m(self, name)\u001b[0m\n\u001b[0;32m   5272\u001b[0m             \u001b[1;32mif\u001b[0m \u001b[0mself\u001b[0m\u001b[1;33m.\u001b[0m\u001b[0m_info_axis\u001b[0m\u001b[1;33m.\u001b[0m\u001b[0m_can_hold_identifiers_and_holds_name\u001b[0m\u001b[1;33m(\u001b[0m\u001b[0mname\u001b[0m\u001b[1;33m)\u001b[0m\u001b[1;33m:\u001b[0m\u001b[1;33m\u001b[0m\u001b[1;33m\u001b[0m\u001b[0m\n\u001b[0;32m   5273\u001b[0m                 \u001b[1;32mreturn\u001b[0m \u001b[0mself\u001b[0m\u001b[1;33m[\u001b[0m\u001b[0mname\u001b[0m\u001b[1;33m]\u001b[0m\u001b[1;33m\u001b[0m\u001b[1;33m\u001b[0m\u001b[0m\n\u001b[1;32m-> 5274\u001b[1;33m             \u001b[1;32mreturn\u001b[0m \u001b[0mobject\u001b[0m\u001b[1;33m.\u001b[0m\u001b[0m__getattribute__\u001b[0m\u001b[1;33m(\u001b[0m\u001b[0mself\u001b[0m\u001b[1;33m,\u001b[0m \u001b[0mname\u001b[0m\u001b[1;33m)\u001b[0m\u001b[1;33m\u001b[0m\u001b[1;33m\u001b[0m\u001b[0m\n\u001b[0m\u001b[0;32m   5275\u001b[0m \u001b[1;33m\u001b[0m\u001b[0m\n\u001b[0;32m   5276\u001b[0m     \u001b[1;32mdef\u001b[0m \u001b[0m__setattr__\u001b[0m\u001b[1;33m(\u001b[0m\u001b[0mself\u001b[0m\u001b[1;33m,\u001b[0m \u001b[0mname\u001b[0m\u001b[1;33m:\u001b[0m \u001b[0mstr\u001b[0m\u001b[1;33m,\u001b[0m \u001b[0mvalue\u001b[0m\u001b[1;33m)\u001b[0m \u001b[1;33m->\u001b[0m \u001b[1;32mNone\u001b[0m\u001b[1;33m:\u001b[0m\u001b[1;33m\u001b[0m\u001b[1;33m\u001b[0m\u001b[0m\n",
      "\u001b[1;31mAttributeError\u001b[0m: 'Series' object has no attribute 'Date'"
     ]
    }
   ],
   "source": [
    "SD = S.Date\n",
    "SD\n",
    "SD.Date.index"
   ]
  },
  {
   "cell_type": "code",
   "execution_count": 229,
   "metadata": {},
   "outputs": [
    {
     "data": {
      "text/plain": [
       "<matplotlib.collections.PathCollection at 0x1fef2ec4f88>"
      ]
     },
     "execution_count": 229,
     "metadata": {},
     "output_type": "execute_result"
    },
    {
     "data": {
      "image/png": "[encoded data removed]",
      "text/plain": [
       "<Figure size 432x288 with 1 Axes>"
      ]
     },
     "metadata": {
      "needs_background": "light"
     },
     "output_type": "display_data"
    }
   ],
   "source": [
    "\n",
    "plt.scatter(SD[SD, SC.COmpound, s=1)"
   ]
  },
  {
   "cell_type": "code",
   "execution_count": 179,
   "metadata": {},
   "outputs": [],
   "source": [
    "Sc = S.Compound"
   ]
  },
  {
   "cell_type": "code",
   "execution_count": 227,
   "metadata": {},
   "outputs": [
    {
     "data": {
      "text/plain": [
       "<matplotlib.axes._subplots.AxesSubplot at 0x1fef2de1708>"
      ]
     },
     "execution_count": 227,
     "metadata": {},
     "output_type": "execute_result"
    },
    {
     "data": {
      "image/png": "[encoded data removed]",
      "text/plain": [
       "<Figure size 432x288 with 1 Axes>"
      ]
     },
     "metadata": {
      "needs_background": "light"
     },
     "output_type": "display_data"
    }
   ],
   "source": [
    "Sc[Sc!=0].hist(bins=30)"
   ]
  },
  {
   "cell_type": "code",
   "execution_count": null,
   "metadata": {},
   "outputs": [],
   "source": []
  }
 ],
 "metadata": {
  "kernelspec": {
   "display_name": "Python 3",
   "language": "python",
   "name": "python3"
  },
  "language_info": {
   "codemirror_mode": {
    "name": "ipython",
    "version": 3
   },
   "file_extension": ".py",
   "mimetype": "text/x-python",
   "name": "python",
   "nbconvert_exporter": "python",
   "pygments_lexer": "ipython3",
   "version": "3.7.6"
  }
 },
 "nbformat": 4,
 "nbformat_minor": 4
}
