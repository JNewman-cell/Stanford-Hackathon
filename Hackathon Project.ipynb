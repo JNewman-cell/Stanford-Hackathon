{
 "cells": [
  {
   "cell_type": "code",
   "execution_count": 41,
   "metadata": {},
   "outputs": [],
   "source": [
    "import pandas as pd\n",
    "import matplotlib.pyplot as plt\n",
    "import matplotlib\n",
    "import nltk\n",
    "from nltk.sentiment import SentimentIntensityAnalyzer\n",
    "import ipywidgets as widgets\n",
    "import statistics"
   ]
  },
  {
   "cell_type": "code",
   "execution_count": 12,
   "metadata": {},
   "outputs": [
    {
     "name": "stderr",
     "output_type": "stream",
     "text": [
      "[nltk_data] Downloading package vader_lexicon to C:\\Users\\Tim\n",
      "[nltk_data]     Kraemer\\AppData\\Roaming\\nltk_data...\n",
      "[nltk_data]   Package vader_lexicon is already up-to-date!\n"
     ]
    },
    {
     "data": {
      "text/plain": [
       "True"
      ]
     },
     "execution_count": 12,
     "metadata": {},
     "output_type": "execute_result"
    }
   ],
   "source": [
    "nltk.download(['vader_lexicon'])"
   ]
  },
  {
   "cell_type": "code",
   "execution_count": 13,
   "metadata": {},
   "outputs": [
    {
     "name": "stderr",
     "output_type": "stream",
     "text": [
      "C:\\Users\\Tim Kraemer\\anaconda3\\lib\\site-packages\\numpy\\lib\\arraysetops.py:569: FutureWarning: elementwise comparison failed; returning scalar instead, but in the future will perform elementwise comparison\n",
      "  mask |= (ar1 == a)\n"
     ]
    },
    {
     "data": {
      "text/html": [
       "<div>\n",
       "<style scoped>\n",
       "    .dataframe tbody tr th:only-of-type {\n",
       "        vertical-align: middle;\n",
       "    }\n",
       "\n",
       "    .dataframe tbody tr th {\n",
       "        vertical-align: top;\n",
       "    }\n",
       "\n",
       "    .dataframe thead th {\n",
       "        text-align: right;\n",
       "    }\n",
       "</style>\n",
       "<table border=\"1\" class=\"dataframe\">\n",
       "  <thead>\n",
       "    <tr style=\"text-align: right;\">\n",
       "      <th></th>\n",
       "      <th>writer</th>\n",
       "      <th>post_date</th>\n",
       "      <th>body</th>\n",
       "      <th>comment_num</th>\n",
       "      <th>retweet_num</th>\n",
       "      <th>like_num</th>\n",
       "    </tr>\n",
       "    <tr>\n",
       "      <th>tweet_id</th>\n",
       "      <th></th>\n",
       "      <th></th>\n",
       "      <th></th>\n",
       "      <th></th>\n",
       "      <th></th>\n",
       "      <th></th>\n",
       "    </tr>\n",
       "  </thead>\n",
       "  <tbody>\n",
       "    <tr>\n",
       "      <th>550441509175443456</th>\n",
       "      <td>VisualStockRSRC</td>\n",
       "      <td>1420070457</td>\n",
       "      <td>lx21 made $10,008  on $AAPL -Check it out! htt...</td>\n",
       "      <td>0</td>\n",
       "      <td>0</td>\n",
       "      <td>1</td>\n",
       "    </tr>\n",
       "    <tr>\n",
       "      <th>550441672312512512</th>\n",
       "      <td>KeralaGuy77</td>\n",
       "      <td>1420070496</td>\n",
       "      <td>Insanity of today weirdo massive selling. $aap...</td>\n",
       "      <td>0</td>\n",
       "      <td>0</td>\n",
       "      <td>0</td>\n",
       "    </tr>\n",
       "    <tr>\n",
       "      <th>550441732014223360</th>\n",
       "      <td>DozenStocks</td>\n",
       "      <td>1420070510</td>\n",
       "      <td>S&amp;P100 #Stocks Performance $HD $LOW $SBUX $TGT...</td>\n",
       "      <td>0</td>\n",
       "      <td>0</td>\n",
       "      <td>0</td>\n",
       "    </tr>\n",
       "    <tr>\n",
       "      <th>550442977802207232</th>\n",
       "      <td>ShowDreamCar</td>\n",
       "      <td>1420070807</td>\n",
       "      <td>$GM $TSLA: Volkswagen Pushes 2014 Record Recal...</td>\n",
       "      <td>0</td>\n",
       "      <td>0</td>\n",
       "      <td>1</td>\n",
       "    </tr>\n",
       "    <tr>\n",
       "      <th>550443807834402816</th>\n",
       "      <td>i_Know_First</td>\n",
       "      <td>1420071005</td>\n",
       "      <td>Swing Trading: Up To 8.91% Return In 14 Days h...</td>\n",
       "      <td>0</td>\n",
       "      <td>0</td>\n",
       "      <td>1</td>\n",
       "    </tr>\n",
       "    <tr>\n",
       "      <th>...</th>\n",
       "      <td>...</td>\n",
       "      <td>...</td>\n",
       "      <td>...</td>\n",
       "      <td>...</td>\n",
       "      <td>...</td>\n",
       "      <td>...</td>\n",
       "    </tr>\n",
       "    <tr>\n",
       "      <th>1212159765914079234</th>\n",
       "      <td>TEEELAZER</td>\n",
       "      <td>1577836383</td>\n",
       "      <td>That $SPY $SPX puuump in the last hour was the...</td>\n",
       "      <td>1</td>\n",
       "      <td>0</td>\n",
       "      <td>6</td>\n",
       "    </tr>\n",
       "    <tr>\n",
       "      <th>1212159838882533376</th>\n",
       "      <td>ShortingIsFun</td>\n",
       "      <td>1577836401</td>\n",
       "      <td>In 2020 I may start Tweeting out positive news...</td>\n",
       "      <td>0</td>\n",
       "      <td>0</td>\n",
       "      <td>1</td>\n",
       "    </tr>\n",
       "    <tr>\n",
       "      <th>1212160015332728833</th>\n",
       "      <td>Commuternyc</td>\n",
       "      <td>1577836443</td>\n",
       "      <td>Patiently Waiting for the no twitter sitter tw...</td>\n",
       "      <td>0</td>\n",
       "      <td>0</td>\n",
       "      <td>5</td>\n",
       "    </tr>\n",
       "    <tr>\n",
       "      <th>1212160410692046849</th>\n",
       "      <td>MoriaCrypto</td>\n",
       "      <td>1577836537</td>\n",
       "      <td>I don't discriminate. I own both $aapl and $ms...</td>\n",
       "      <td>1</td>\n",
       "      <td>0</td>\n",
       "      <td>1</td>\n",
       "    </tr>\n",
       "    <tr>\n",
       "      <th>1212160477159206912</th>\n",
       "      <td>treabase</td>\n",
       "      <td>1577836553</td>\n",
       "      <td>$AAPL #patent 10,522,475 Vertical interconnect...</td>\n",
       "      <td>0</td>\n",
       "      <td>0</td>\n",
       "      <td>0</td>\n",
       "    </tr>\n",
       "  </tbody>\n",
       "</table>\n",
       "<p>3717964 rows × 6 columns</p>\n",
       "</div>"
      ],
      "text/plain": [
       "                              writer   post_date  \\\n",
       "tweet_id                                           \n",
       "550441509175443456   VisualStockRSRC  1420070457   \n",
       "550441672312512512       KeralaGuy77  1420070496   \n",
       "550441732014223360       DozenStocks  1420070510   \n",
       "550442977802207232      ShowDreamCar  1420070807   \n",
       "550443807834402816      i_Know_First  1420071005   \n",
       "...                              ...         ...   \n",
       "1212159765914079234        TEEELAZER  1577836383   \n",
       "1212159838882533376    ShortingIsFun  1577836401   \n",
       "1212160015332728833      Commuternyc  1577836443   \n",
       "1212160410692046849      MoriaCrypto  1577836537   \n",
       "1212160477159206912         treabase  1577836553   \n",
       "\n",
       "                                                                  body  \\\n",
       "tweet_id                                                                 \n",
       "550441509175443456   lx21 made $10,008  on $AAPL -Check it out! htt...   \n",
       "550441672312512512   Insanity of today weirdo massive selling. $aap...   \n",
       "550441732014223360   S&P100 #Stocks Performance $HD $LOW $SBUX $TGT...   \n",
       "550442977802207232   $GM $TSLA: Volkswagen Pushes 2014 Record Recal...   \n",
       "550443807834402816   Swing Trading: Up To 8.91% Return In 14 Days h...   \n",
       "...                                                                ...   \n",
       "1212159765914079234  That $SPY $SPX puuump in the last hour was the...   \n",
       "1212159838882533376  In 2020 I may start Tweeting out positive news...   \n",
       "1212160015332728833  Patiently Waiting for the no twitter sitter tw...   \n",
       "1212160410692046849  I don't discriminate. I own both $aapl and $ms...   \n",
       "1212160477159206912  $AAPL #patent 10,522,475 Vertical interconnect...   \n",
       "\n",
       "                     comment_num  retweet_num  like_num  \n",
       "tweet_id                                                 \n",
       "550441509175443456             0            0         1  \n",
       "550441672312512512             0            0         0  \n",
       "550441732014223360             0            0         0  \n",
       "550442977802207232             0            0         1  \n",
       "550443807834402816             0            0         1  \n",
       "...                          ...          ...       ...  \n",
       "1212159765914079234            1            0         6  \n",
       "1212159838882533376            0            0         1  \n",
       "1212160015332728833            0            0         5  \n",
       "1212160410692046849            1            0         1  \n",
       "1212160477159206912            0            0         0  \n",
       "\n",
       "[3717964 rows x 6 columns]"
      ]
     },
     "execution_count": 13,
     "metadata": {},
     "output_type": "execute_result"
    }
   ],
   "source": [
    "tweet_data = pd.read_csv(r'Tweet.csv', index_col=0)\n",
    "tweet_data"
   ]
  },
  {
   "cell_type": "markdown",
   "metadata": {},
   "source": [
    "How to access a single tweet"
   ]
  },
  {
   "cell_type": "code",
   "execution_count": 14,
   "metadata": {},
   "outputs": [
    {
     "data": {
      "text/plain": [
       "'Insanity of today weirdo massive selling. $aapl bid up 45 cents after hours after non stop selling in trading hours'"
      ]
     },
     "execution_count": 14,
     "metadata": {},
     "output_type": "execute_result"
    }
   ],
   "source": [
    "tweet_data.loc[550441672312512512].body"
   ]
  },
  {
   "cell_type": "code",
   "execution_count": 15,
   "metadata": {},
   "outputs": [
    {
     "data": {
      "text/html": [
       "<div>\n",
       "<style scoped>\n",
       "    .dataframe tbody tr th:only-of-type {\n",
       "        vertical-align: middle;\n",
       "    }\n",
       "\n",
       "    .dataframe tbody tr th {\n",
       "        vertical-align: top;\n",
       "    }\n",
       "\n",
       "    .dataframe thead th {\n",
       "        text-align: right;\n",
       "    }\n",
       "</style>\n",
       "<table border=\"1\" class=\"dataframe\">\n",
       "  <thead>\n",
       "    <tr style=\"text-align: right;\">\n",
       "      <th></th>\n",
       "      <th>ticker_symbol</th>\n",
       "      <th>company_name</th>\n",
       "    </tr>\n",
       "  </thead>\n",
       "  <tbody>\n",
       "    <tr>\n",
       "      <th>0</th>\n",
       "      <td>AAPL</td>\n",
       "      <td>apple</td>\n",
       "    </tr>\n",
       "    <tr>\n",
       "      <th>1</th>\n",
       "      <td>GOOG</td>\n",
       "      <td>Google Inc</td>\n",
       "    </tr>\n",
       "    <tr>\n",
       "      <th>2</th>\n",
       "      <td>GOOGL</td>\n",
       "      <td>Google Inc</td>\n",
       "    </tr>\n",
       "    <tr>\n",
       "      <th>3</th>\n",
       "      <td>AMZN</td>\n",
       "      <td>Amazon.com</td>\n",
       "    </tr>\n",
       "    <tr>\n",
       "      <th>4</th>\n",
       "      <td>TSLA</td>\n",
       "      <td>Tesla Inc</td>\n",
       "    </tr>\n",
       "    <tr>\n",
       "      <th>5</th>\n",
       "      <td>MSFT</td>\n",
       "      <td>Microsoft</td>\n",
       "    </tr>\n",
       "  </tbody>\n",
       "</table>\n",
       "</div>"
      ],
      "text/plain": [
       "  ticker_symbol company_name\n",
       "0          AAPL        apple\n",
       "1          GOOG   Google Inc\n",
       "2         GOOGL   Google Inc\n",
       "3          AMZN   Amazon.com\n",
       "4          TSLA    Tesla Inc\n",
       "5          MSFT    Microsoft"
      ]
     },
     "execution_count": 15,
     "metadata": {},
     "output_type": "execute_result"
    }
   ],
   "source": [
    "company_data = pd.read_csv(r'Company.csv')\n",
    "company_data"
   ]
  },
  {
   "cell_type": "code",
   "execution_count": 16,
   "metadata": {},
   "outputs": [
    {
     "data": {
      "text/html": [
       "<div>\n",
       "<style scoped>\n",
       "    .dataframe tbody tr th:only-of-type {\n",
       "        vertical-align: middle;\n",
       "    }\n",
       "\n",
       "    .dataframe tbody tr th {\n",
       "        vertical-align: top;\n",
       "    }\n",
       "\n",
       "    .dataframe thead th {\n",
       "        text-align: right;\n",
       "    }\n",
       "</style>\n",
       "<table border=\"1\" class=\"dataframe\">\n",
       "  <thead>\n",
       "    <tr style=\"text-align: right;\">\n",
       "      <th></th>\n",
       "      <th>tweet_id</th>\n",
       "      <th>ticker_symbol</th>\n",
       "    </tr>\n",
       "  </thead>\n",
       "  <tbody>\n",
       "    <tr>\n",
       "      <th>0</th>\n",
       "      <td>550803612197457920</td>\n",
       "      <td>AAPL</td>\n",
       "    </tr>\n",
       "    <tr>\n",
       "      <th>1</th>\n",
       "      <td>550803610825928706</td>\n",
       "      <td>AAPL</td>\n",
       "    </tr>\n",
       "    <tr>\n",
       "      <th>2</th>\n",
       "      <td>550803225113157632</td>\n",
       "      <td>AAPL</td>\n",
       "    </tr>\n",
       "    <tr>\n",
       "      <th>3</th>\n",
       "      <td>550802957370159104</td>\n",
       "      <td>AAPL</td>\n",
       "    </tr>\n",
       "    <tr>\n",
       "      <th>4</th>\n",
       "      <td>550802855129382912</td>\n",
       "      <td>AAPL</td>\n",
       "    </tr>\n",
       "    <tr>\n",
       "      <th>...</th>\n",
       "      <td>...</td>\n",
       "      <td>...</td>\n",
       "    </tr>\n",
       "    <tr>\n",
       "      <th>4336440</th>\n",
       "      <td>1212158772015034369</td>\n",
       "      <td>TSLA</td>\n",
       "    </tr>\n",
       "    <tr>\n",
       "      <th>4336441</th>\n",
       "      <td>1212159099632267268</td>\n",
       "      <td>TSLA</td>\n",
       "    </tr>\n",
       "    <tr>\n",
       "      <th>4336442</th>\n",
       "      <td>1212159184931717120</td>\n",
       "      <td>TSLA</td>\n",
       "    </tr>\n",
       "    <tr>\n",
       "      <th>4336443</th>\n",
       "      <td>1212159838882533376</td>\n",
       "      <td>TSLA</td>\n",
       "    </tr>\n",
       "    <tr>\n",
       "      <th>4336444</th>\n",
       "      <td>1212160015332728833</td>\n",
       "      <td>TSLA</td>\n",
       "    </tr>\n",
       "  </tbody>\n",
       "</table>\n",
       "<p>4336445 rows × 2 columns</p>\n",
       "</div>"
      ],
      "text/plain": [
       "                    tweet_id ticker_symbol\n",
       "0         550803612197457920          AAPL\n",
       "1         550803610825928706          AAPL\n",
       "2         550803225113157632          AAPL\n",
       "3         550802957370159104          AAPL\n",
       "4         550802855129382912          AAPL\n",
       "...                      ...           ...\n",
       "4336440  1212158772015034369          TSLA\n",
       "4336441  1212159099632267268          TSLA\n",
       "4336442  1212159184931717120          TSLA\n",
       "4336443  1212159838882533376          TSLA\n",
       "4336444  1212160015332728833          TSLA\n",
       "\n",
       "[4336445 rows x 2 columns]"
      ]
     },
     "execution_count": 16,
     "metadata": {},
     "output_type": "execute_result"
    }
   ],
   "source": [
    "company_tweet_data = pd.read_csv('Company_Tweet.csv')\n",
    "company_tweet_data"
   ]
  },
  {
   "cell_type": "code",
   "execution_count": 17,
   "metadata": {},
   "outputs": [
    {
     "data": {
      "text/plain": [
       "{'AAPL', 'AMZN', 'GOOG', 'GOOGL', 'MSFT', 'TSLA'}"
      ]
     },
     "execution_count": 17,
     "metadata": {},
     "output_type": "execute_result"
    }
   ],
   "source": [
    "set(company_tweet_data.ticker_symbol)"
   ]
  },
  {
   "cell_type": "markdown",
   "metadata": {},
   "source": [
    "give me all tweet ids that are related to AAPL"
   ]
  },
  {
   "cell_type": "code",
   "execution_count": 18,
   "metadata": {},
   "outputs": [],
   "source": [
    "tweets_from_apple = company_tweet_data[company_tweet_data.ticker_symbol=='AAPL'].tweet_id"
   ]
  },
  {
   "cell_type": "code",
   "execution_count": 43,
   "metadata": {},
   "outputs": [
    {
     "name": "stdout",
     "output_type": "stream",
     "text": [
      "                            writer   post_date  \\\n",
      "tweet_id                                         \n",
      "550803612197457920      SentiQuant  1420156789   \n",
      "550803610825928706      SentiQuant  1420156788   \n",
      "550803225113157632     MacHashNews  1420156696   \n",
      "550802957370159104   WaltLightShed  1420156633   \n",
      "550802855129382912    2waystrading  1420156608   \n",
      "...                            ...         ...   \n",
      "1212159254884433921  QuantWolfLine  1577836261   \n",
      "1212159275637886976     GMGRIFF_79  1577836266   \n",
      "1212159765914079234      TEEELAZER  1577836383   \n",
      "1212160410692046849    MoriaCrypto  1577836537   \n",
      "1212160477159206912       treabase  1577836553   \n",
      "\n",
      "                                                                  body  \\\n",
      "tweet_id                                                                 \n",
      "550803612197457920   #TOPTICKERTWEETS $AAPL $IMRS $BABA $EBAY $AMZN...   \n",
      "550803610825928706   #SENTISHIFTUP $K $FB $GOOGL $GS $GOLD $T $AAPL...   \n",
      "550803225113157632   Rumor Roundup: What to expect when you're expe...   \n",
      "550802957370159104   An $AAPL store line in Sapporo Japan for the \"...   \n",
      "550802855129382912   $AAPL - Will $AAPL Give Second entry opportuni...   \n",
      "...                                                                ...   \n",
      "1212159254884433921  Imagine calling your broker-dealer and wanting...   \n",
      "1212159275637886976  $AAPL yearly~ Heck of a year.. Jan. 2, 1999~ar...   \n",
      "1212159765914079234  That $SPY $SPX puuump in the last hour was the...   \n",
      "1212160410692046849  I don't discriminate. I own both $aapl and $ms...   \n",
      "1212160477159206912  $AAPL #patent 10,522,475 Vertical interconnect...   \n",
      "\n",
      "                     comment_num  retweet_num  like_num  \n",
      "tweet_id                                                 \n",
      "550803612197457920             0            0         1  \n",
      "550803610825928706             0            0         1  \n",
      "550803225113157632             0            0         0  \n",
      "550802957370159104             2            4         4  \n",
      "550802855129382912             0            0         0  \n",
      "...                          ...          ...       ...  \n",
      "1212159254884433921            1            0         1  \n",
      "1212159275637886976            0            0         1  \n",
      "1212159765914079234            1            0         6  \n",
      "1212160410692046849            1            0         1  \n",
      "1212160477159206912            0            0         0  \n",
      "\n",
      "[1425013 rows x 6 columns]\n"
     ]
    }
   ],
   "source": [
    "TA = tweet_data.loc[tweets_from_apple]\n",
    "print(TA)"
   ]
  },
  {
   "cell_type": "markdown",
   "metadata": {},
   "source": [
    "Graph of postdate vs likesum"
   ]
  },
  {
   "cell_type": "code",
   "execution_count": 20,
   "metadata": {},
   "outputs": [
    {
     "data": {
      "image/png": "[encoded data removed]",
      "text/plain": [
       "<Figure size 432x288 with 1 Axes>"
      ]
     },
     "metadata": {
      "needs_background": "light"
     },
     "output_type": "display_data"
    }
   ],
   "source": [
    "plt.scatter(TA.post_date, TA.like_num + 1, s=1)\n",
    "plt.yscale('log')"
   ]
  },
  {
   "cell_type": "code",
   "execution_count": 21,
   "metadata": {},
   "outputs": [
    {
     "data": {
      "text/plain": [
       "[<matplotlib.lines.Line2D at 0x19a831dbc88>]"
      ]
     },
     "execution_count": 21,
     "metadata": {},
     "output_type": "execute_result"
    },
    {
     "data": {
      "image/png": "[encoded data removed]",
      "text/plain": [
       "<Figure size 432x288 with 1 Axes>"
      ]
     },
     "metadata": {
      "needs_background": "light"
     },
     "output_type": "display_data"
    }
   ],
   "source": [
    "plt.scatter(TA.like_num+1, TA.retweet_num+1, s=1)\n",
    "plt.yscale('log')\n",
    "plt.xscale('log')\n",
    "plt.plot([1, 1000], [1, 1000], 'y')"
   ]
  },
  {
   "cell_type": "code",
   "execution_count": 22,
   "metadata": {},
   "outputs": [],
   "source": [
    "SIA = SentimentIntensityAnalyzer()"
   ]
  },
  {
   "cell_type": "code",
   "execution_count": 23,
   "metadata": {},
   "outputs": [
    {
     "data": {
      "text/plain": [
       "{'neg': 0.339, 'neu': 0.661, 'pos': 0.0, 'compound': -0.8271}"
      ]
     },
     "execution_count": 23,
     "metadata": {},
     "output_type": "execute_result"
    }
   ],
   "source": [
    "SIA.polarity_scores('Insanity of today weirdo massive selling. $aapl bid up 45 cents after hours after non stop selling in trading hours')"
   ]
  },
  {
   "cell_type": "code",
   "execution_count": 24,
   "metadata": {},
   "outputs": [],
   "source": [
    "compound_scores = []\n",
    "for s in tweet_data[0:100].body:\n",
    "    compound_scores.append(SIA.polarity_scores(s)['compound'])"
   ]
  },
  {
   "cell_type": "code",
   "execution_count": 44,
   "metadata": {},
   "outputs": [
    {
     "name": "stdout",
     "output_type": "stream",
     "text": [
      "[0.0, -0.8271, 0.0, 0.0, 0.0, 0.0, 0.0, 0.0, 0.0, 0.0, 0.0, 0.2023, 0.0, 0.0, 0.0, 0.2023, 0.6369, 0.2023, 0.0, 0.1531, -0.6486, 0.0, 0.1027, 0.6249, 0.0, -0.7506, -0.7506, -0.7506, -0.7712, -0.7506, 0.0, 0.0772, -0.2263, -0.7506, -0.7506, 0.0258, -0.7506, -0.5574, -0.5719, 0.0, 0.0, -0.7506, 0.5423, 0.3182, -0.3818, 0.7456, -0.7712, 0.4404, 0.0, 0.0, 0.4404, 0.0, 0.0, -0.7964, 0.1779, 0.0, 0.4939, -0.1779, -0.4854, 0.7783, 0.7783, 0.7783, 0.0, 0.5106, 0.7184, 0.2023, 0.0, 0.1779, 0.0, 0.0, 0.7783, 0.7783, 0.4404, 0.1779, 0.8065, 0.0, -0.6908, 0.0, 0.0, 0.0, 0.0, 0.3595, 0.2732, 0.0, -0.3612, 0.5106, 0.25, -0.4767, 0.0, 0.0, 0.1779, -0.0772, -0.2732, 0.4019, -0.2732, -0.3612, -0.2732, -0.3182, 0.0, -0.5106]\n"
     ]
    }
   ],
   "source": [
    "print(compound_scores)"
   ]
  },
  {
   "cell_type": "code",
   "execution_count": 46,
   "metadata": {},
   "outputs": [
    {
     "data": {
      "text/plain": [
       "<matplotlib.collections.PathCollection at 0x19a8969a208>"
      ]
     },
     "execution_count": 46,
     "metadata": {},
     "output_type": "execute_result"
    },
    {
     "data": {
      "image/png": "[encoded data removed]",
      "text/plain": [
       "<Figure size 432x288 with 1 Axes>"
      ]
     },
     "metadata": {
      "needs_background": "light"
     },
     "output_type": "display_data"
    }
   ],
   "source": [
    "plt.scatter(range(len(compound_scores)), compound_scores, s=1)"
   ]
  },
  {
   "cell_type": "markdown",
   "metadata": {},
   "source": [
    "load historical stock data"
   ]
  },
  {
   "cell_type": "code",
   "execution_count": 26,
   "metadata": {},
   "outputs": [],
   "source": [
    "AAPL_historic_data = pd.read_csv('AAPL_Historical_Data.csv')"
   ]
  },
  {
   "cell_type": "code",
   "execution_count": 27,
   "metadata": {},
   "outputs": [
    {
     "data": {
      "text/html": [
       "<div>\n",
       "<style scoped>\n",
       "    .dataframe tbody tr th:only-of-type {\n",
       "        vertical-align: middle;\n",
       "    }\n",
       "\n",
       "    .dataframe tbody tr th {\n",
       "        vertical-align: top;\n",
       "    }\n",
       "\n",
       "    .dataframe thead th {\n",
       "        text-align: right;\n",
       "    }\n",
       "</style>\n",
       "<table border=\"1\" class=\"dataframe\">\n",
       "  <thead>\n",
       "    <tr style=\"text-align: right;\">\n",
       "      <th></th>\n",
       "      <th>Date</th>\n",
       "      <th>Close/Last</th>\n",
       "      <th>Volume</th>\n",
       "      <th>Open</th>\n",
       "      <th>High</th>\n",
       "      <th>Low</th>\n",
       "    </tr>\n",
       "  </thead>\n",
       "  <tbody>\n",
       "    <tr>\n",
       "      <th>0</th>\n",
       "      <td>02/11/2021</td>\n",
       "      <td>$135.13</td>\n",
       "      <td>64280030</td>\n",
       "      <td>$135.9</td>\n",
       "      <td>$136.39</td>\n",
       "      <td>$133.77</td>\n",
       "    </tr>\n",
       "    <tr>\n",
       "      <th>1</th>\n",
       "      <td>02/10/2021</td>\n",
       "      <td>$135.39</td>\n",
       "      <td>73046560</td>\n",
       "      <td>$136.48</td>\n",
       "      <td>$136.99</td>\n",
       "      <td>$134.4</td>\n",
       "    </tr>\n",
       "    <tr>\n",
       "      <th>2</th>\n",
       "      <td>02/09/2021</td>\n",
       "      <td>$136.01</td>\n",
       "      <td>76774210</td>\n",
       "      <td>$136.62</td>\n",
       "      <td>$137.877</td>\n",
       "      <td>$135.85</td>\n",
       "    </tr>\n",
       "    <tr>\n",
       "      <th>3</th>\n",
       "      <td>02/08/2021</td>\n",
       "      <td>$136.91</td>\n",
       "      <td>71297210</td>\n",
       "      <td>$136.03</td>\n",
       "      <td>$136.96</td>\n",
       "      <td>$134.92</td>\n",
       "    </tr>\n",
       "    <tr>\n",
       "      <th>4</th>\n",
       "      <td>02/05/2021</td>\n",
       "      <td>$136.76</td>\n",
       "      <td>75693830</td>\n",
       "      <td>$137.35</td>\n",
       "      <td>$137.42</td>\n",
       "      <td>$135.86</td>\n",
       "    </tr>\n",
       "    <tr>\n",
       "      <th>...</th>\n",
       "      <td>...</td>\n",
       "      <td>...</td>\n",
       "      <td>...</td>\n",
       "      <td>...</td>\n",
       "      <td>...</td>\n",
       "      <td>...</td>\n",
       "    </tr>\n",
       "    <tr>\n",
       "      <th>2511</th>\n",
       "      <td>02/18/2011</td>\n",
       "      <td>$12.52</td>\n",
       "      <td>813306995</td>\n",
       "      <td>$12.8111</td>\n",
       "      <td>$12.8393</td>\n",
       "      <td>$12.4829</td>\n",
       "    </tr>\n",
       "    <tr>\n",
       "      <th>2512</th>\n",
       "      <td>02/17/2011</td>\n",
       "      <td>$12.7964</td>\n",
       "      <td>529280428</td>\n",
       "      <td>$12.7589</td>\n",
       "      <td>$12.8668</td>\n",
       "      <td>$12.7329</td>\n",
       "    </tr>\n",
       "    <tr>\n",
       "      <th>2513</th>\n",
       "      <td>02/16/2011</td>\n",
       "      <td>$12.9689</td>\n",
       "      <td>475068530</td>\n",
       "      <td>$12.8857</td>\n",
       "      <td>$13.0321</td>\n",
       "      <td>$12.875</td>\n",
       "    </tr>\n",
       "    <tr>\n",
       "      <th>2514</th>\n",
       "      <td>02/15/2011</td>\n",
       "      <td>$12.8536</td>\n",
       "      <td>282927287</td>\n",
       "      <td>$12.8282</td>\n",
       "      <td>$12.8561</td>\n",
       "      <td>$12.7696</td>\n",
       "    </tr>\n",
       "    <tr>\n",
       "      <th>2515</th>\n",
       "      <td>02/14/2011</td>\n",
       "      <td>$12.8279</td>\n",
       "      <td>310000756</td>\n",
       "      <td>$12.7425</td>\n",
       "      <td>$12.8386</td>\n",
       "      <td>$12.7396</td>\n",
       "    </tr>\n",
       "  </tbody>\n",
       "</table>\n",
       "<p>2516 rows × 6 columns</p>\n",
       "</div>"
      ],
      "text/plain": [
       "            Date  Close/Last     Volume       Open       High        Low\n",
       "0     02/11/2021     $135.13   64280030     $135.9    $136.39    $133.77\n",
       "1     02/10/2021     $135.39   73046560    $136.48    $136.99     $134.4\n",
       "2     02/09/2021     $136.01   76774210    $136.62   $137.877    $135.85\n",
       "3     02/08/2021     $136.91   71297210    $136.03    $136.96    $134.92\n",
       "4     02/05/2021     $136.76   75693830    $137.35    $137.42    $135.86\n",
       "...          ...         ...        ...        ...        ...        ...\n",
       "2511  02/18/2011      $12.52  813306995   $12.8111   $12.8393   $12.4829\n",
       "2512  02/17/2011    $12.7964  529280428   $12.7589   $12.8668   $12.7329\n",
       "2513  02/16/2011    $12.9689  475068530   $12.8857   $13.0321    $12.875\n",
       "2514  02/15/2011    $12.8536  282927287   $12.8282   $12.8561   $12.7696\n",
       "2515  02/14/2011    $12.8279  310000756   $12.7425   $12.8386   $12.7396\n",
       "\n",
       "[2516 rows x 6 columns]"
      ]
     },
     "execution_count": 27,
     "metadata": {},
     "output_type": "execute_result"
    }
   ],
   "source": [
    "AAPL_historic_data"
   ]
  },
  {
   "cell_type": "code",
   "execution_count": 28,
   "metadata": {},
   "outputs": [],
   "source": [
    "apple_stock_dates = pd.to_datetime(AAPL_historic_data.Date)"
   ]
  },
  {
   "cell_type": "code",
   "execution_count": 29,
   "metadata": {},
   "outputs": [
    {
     "data": {
      "text/plain": [
       "0      2021-02-11\n",
       "1      2021-02-10\n",
       "2      2021-02-09\n",
       "3      2021-02-08\n",
       "4      2021-02-05\n",
       "          ...    \n",
       "2511   2011-02-18\n",
       "2512   2011-02-17\n",
       "2513   2011-02-16\n",
       "2514   2011-02-15\n",
       "2515   2011-02-14\n",
       "Name: Date, Length: 2516, dtype: datetime64[ns]"
      ]
     },
     "execution_count": 29,
     "metadata": {},
     "output_type": "execute_result"
    }
   ],
   "source": [
    "apple_stock_dates"
   ]
  },
  {
   "cell_type": "code",
   "execution_count": 30,
   "metadata": {},
   "outputs": [],
   "source": [
    "apple_stock_prices = pd.Series([float(s[2:]) for s in AAPL_historic_data[' Close/Last']], index=apple_stock_dates)"
   ]
  },
  {
   "cell_type": "code",
   "execution_count": 31,
   "metadata": {},
   "outputs": [
    {
     "data": {
      "text/plain": [
       "Date\n",
       "2021-02-11    135.1300\n",
       "2021-02-10    135.3900\n",
       "2021-02-09    136.0100\n",
       "2021-02-08    136.9100\n",
       "2021-02-05    136.7600\n",
       "                ...   \n",
       "2011-02-18     12.5200\n",
       "2011-02-17     12.7964\n",
       "2011-02-16     12.9689\n",
       "2011-02-15     12.8536\n",
       "2011-02-14     12.8279\n",
       "Length: 2516, dtype: float64"
      ]
     },
     "execution_count": 31,
     "metadata": {},
     "output_type": "execute_result"
    }
   ],
   "source": [
    "apple_stock_prices"
   ]
  },
  {
   "cell_type": "code",
   "execution_count": 33,
   "metadata": {},
   "outputs": [
    {
     "data": {
      "text/plain": [
       "<matplotlib.axes._subplots.AxesSubplot at 0x19a876f5ac8>"
      ]
     },
     "execution_count": 33,
     "metadata": {},
     "output_type": "execute_result"
    },
    {
     "data": {
      "image/png": "[encoded data removed]",
      "text/plain": [
       "<Figure size 432x288 with 1 Axes>"
      ]
     },
     "metadata": {
      "needs_background": "light"
     },
     "output_type": "display_data"
    }
   ],
   "source": [
    "apple_stock_prices[:].plot()\n",
    "apple_stock_prices.rolling('1d').median().plot()"
   ]
  },
  {
   "cell_type": "code",
   "execution_count": null,
   "metadata": {},
   "outputs": [],
   "source": []
  },
  {
   "cell_type": "code",
   "execution_count": null,
   "metadata": {},
   "outputs": [],
   "source": []
  }
 ],
 "metadata": {
  "kernelspec": {
   "display_name": "Python 3",
   "language": "python",
   "name": "python3"
  },
  "language_info": {
   "codemirror_mode": {
    "name": "ipython",
    "version": 3
   },
   "file_extension": ".py",
   "mimetype": "text/x-python",
   "name": "python",
   "nbconvert_exporter": "python",
   "pygments_lexer": "ipython3",
   "version": "3.7.6"
  }
 },
 "nbformat": 4,
 "nbformat_minor": 4
}
